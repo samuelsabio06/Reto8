{
  "cells": [
    {
      "cell_type": "markdown",
      "metadata": {
        "id": "zV_b5o0CPu3R"
      },
      "source": [
        "# Funciones lambda"
      ]
    },
    {
      "cell_type": "code",
      "execution_count": null,
      "metadata": {
        "colab": {
          "base_uri": "https://localhost:8080/"
        },
        "id": "9WcgghXBsjON",
        "outputId": "fcad2c70-44d9-4c3a-bf60-5f86390d64d2"
      },
      "outputs": [
        {
          "name": "stdout",
          "output_type": "stream",
          "text": [
            "ingrese el primer numero6\n",
            "ingrese el segundo numero3\n",
            "6 es multiplo de 3\n"
          ]
        }
      ],
      "source": [
        "#indica si el primer numero es multiplo del segundo\n",
        "if __name__=='__main__':\n",
        "  a = int(input('ingrese el primer numero'))\n",
        "  b = int(input('ingrese el segundo numero'))\n",
        "  ultiplos = lambda x, y: True if x % y == 0 else False\n",
        "  sonmultiplos = ultiplos (a,b)\n",
        "  if sonmultiplos:\n",
        "    print(f'{a} es multiplo de {b}')\n",
        "  else:\n",
        "    print(f'{a} No es multiplo de {b}')\n",
        "\n"
      ]
    },
    {
      "cell_type": "code",
      "execution_count": null,
      "metadata": {
        "colab": {
          "base_uri": "https://localhost:8080/"
        },
        "id": "HiaPnkQ8Px79",
        "outputId": "15c0f034-86a4-4d67-f02e-c4b7896da251"
      },
      "outputs": [
        {
          "name": "stdout",
          "output_type": "stream",
          "text": [
            "Ingrese el valor del prestamo: 100\n",
            "ingrese la tasa de interes (sin el simbolo%)3\n",
            "Ingrese la cantidad de meses: 10\n",
            "El valor del prestamo es de: 134.39163793441222\n"
          ]
        }
      ],
      "source": [
        "#Interes compuesto\n",
        "if __name__=='__main__':\n",
        "    c= float (input(\"Ingrese el valor del prestamo: \"))\n",
        "    i= float (input(\"ingrese la tasa de interes (sin el simbolo\" + chr (37)+\")\"))\n",
        "    n= int (input(\"Ingrese la cantidad de meses: \"))\n",
        "    interes_compuesto = lambda x, y, z: c*((1+(i/100))**n)\n",
        "    rta_interes = interes_compuesto (a, b, c)\n",
        "    print (f\"El valor del prestamo es de: {rta_interes}\")"
      ]
    },
    {
      "cell_type": "code",
      "execution_count": null,
      "metadata": {
        "colab": {
          "base_uri": "https://localhost:8080/"
        },
        "id": "ZkeYCP_bTnfi",
        "outputId": "431d8b56-f61e-4a9d-ecbd-cb21d49ca00c"
      },
      "outputs": [
        {
          "name": "stdout",
          "output_type": "stream",
          "text": [
            "ingrese la cantidad de galinas: 69\n",
            "ingrese la cantidad de gallos: 70\n",
            "ingrese la cantidad de pollitos71\n",
            "el peso total es de 975\n"
          ]
        }
      ],
      "source": [
        "#peso total de gallinas, gallos y pollos\n",
        "if __name__==\"__main__\":\n",
        "    N= int(input(\"ingrese la cantidad de galinas: \"))\n",
        "    M= int(input(\"ingrese la cantidad de gallos: \"))\n",
        "    K= int (input(\"ingrese la cantidad de pollitos\"))\n",
        "    p_gallo= 7 #Peso de cada anilmal\n",
        "    p_gallina= 6\n",
        "    p_pollo= 1\n",
        "    peso_total = lambda a,b,c: (a*p_gallina)+(b*p_gallo)+(c*p_pollo)#Multiplicar por la cantidad de veces que esta cada animal, luego sumarlo\n",
        "    rta_peso = peso_total (N,M,K)\n",
        "    print(f'el peso total es de {rta_peso}')\n"
      ]
    },
    {
      "cell_type": "markdown",
      "metadata": {
        "id": "zaUx7iDNbTv-"
      },
      "source": [
        "# Argumentos no definidos"
      ]
    },
    {
      "cell_type": "code",
      "execution_count": null,
      "metadata": {
        "colab": {
          "base_uri": "https://localhost:8080/"
        },
        "id": "NEJgfldoj4C1",
        "outputId": "74d69dd9-fb83-4862-e891-e7038e3e0e26"
      },
      "outputs": [
        {
          "name": "stdout",
          "output_type": "stream",
          "text": [
            "ingrese un numero: 5\n",
            "el cuadrado es25\n"
          ]
        }
      ],
      "source": [
        "#Elevar un numero al cuadrado\n",
        "def cuadrado (*args) -> int:\n",
        "  for num in args: #Recorrer los posibles argumentos de la funcion\n",
        "    return num ** 2 #Del argumento 'seleccionado' elevarlo al cuadrado\n",
        "\n",
        "if __name__=='__main__':\n",
        "  a = int(input('ingrese un numero: '))\n",
        "  resultado = cuadrado (a) #asignar ell resultadode la funcion a una nueva varibable\n",
        "  print('el cuadrado es' + str(resultado))"
      ]
    },
    {
      "cell_type": "code",
      "execution_count": null,
      "metadata": {
        "colab": {
          "base_uri": "https://localhost:8080/"
        },
        "id": "Ym2ZoGHhlwqV",
        "outputId": "1476972a-dc4e-449a-c4d5-4b44ee15362a"
      },
      "outputs": [
        {
          "name": "stdout",
          "output_type": "stream",
          "text": [
            "ingrese el primer numero: 1\n",
            "ingrese el segundo numero: 2\n",
            "ingrese el tercer numero: 3\n",
            "el numero 1 es impar\n",
            "el numero 2 es par\n",
            "el numero 3 es impar\n"
          ]
        }
      ],
      "source": [
        "#Identificar si un numero es par o impar\n",
        "def par_impar (*args) -> bool:\n",
        "  for num in args: #Identidicar los numeros que hacen parte de la funcion\n",
        "    if num%2 == 0:\n",
        "      print(f'el numero {num} es par')\n",
        "    else:\n",
        "      print(f'el numero {num} es impar')\n",
        "\n",
        "if __name__=='__main__':\n",
        "  a = int(input('ingrese el primer numero: '))\n",
        "  b = int(input('ingrese el segundo numero: '))\n",
        "  c = int(input('ingrese el tercer numero: '))\n",
        "\n",
        "  par_impar(a,b,c)\n",
        "\n",
        "\n"
      ]
    },
    {
      "cell_type": "code",
      "execution_count": 38,
      "metadata": {
        "colab": {
          "base_uri": "https://localhost:8080/"
        },
        "id": "hWeZVZTItcuX",
        "outputId": "3a832faa-e0c9-4d44-ba1e-ba9a5af7c5a7"
      },
      "outputs": [
        {
          "name": "stdout",
          "output_type": "stream",
          "text": [
            "ingrese el primer numero: 10\n",
            "ingrese el segundo numero: 5\n",
            "ingrese el tercer numero: 73\n",
            "el numero 10 No es primo\n",
            "El número 5 es primo\n",
            "El número 73 es primo\n"
          ]
        }
      ],
      "source": [
        "#Identificar si un numero es primo\n",
        "def primo(*args):\n",
        "  for num in args: #recorremos cada numero posible para los argumetnos\n",
        "    if num > 1:\n",
        "      for i in range(2, num):\n",
        "        if num % i == 0: #Si el en el recorrido existe algun deivisor el numero no es primo\n",
        "          print(f'el numero {num} No es primo')\n",
        "          break #se rompe el ciclo para que no siga imprimiendo resultados\n",
        "      else:\n",
        "        print(f\"El número {num} es primo\") # en el caso que no encontrara divisores el numero es primo\n",
        "    else:\n",
        "      print(f\"El número {num} es primo\")\n",
        "\n",
        "\n",
        "\n",
        "if __name__=='__main__':\n",
        "  a = int(input('ingrese el primer numero: '))\n",
        "  b = int(input('ingrese el segundo numero: '))\n",
        "  c = int(input('ingrese el tercer numero: '))\n",
        "  primo (a,b,c)\n",
        "\n",
        "\n"
      ]
    },
    {
      "cell_type": "markdown",
      "metadata": {
        "id": "BDRHRn3fy99e"
      },
      "source": [
        "# Funcion recursiva potencia\n"
      ]
    },
    {
      "cell_type": "code",
      "execution_count": 1,
      "metadata": {
        "colab": {
          "base_uri": "https://localhost:8080/"
        },
        "id": "Ae7Ek8NPzE8j",
        "outputId": "8d937001-e745-47ec-ecba-a495980e7565"
      },
      "outputs": [
        {
          "name": "stdout",
          "output_type": "stream",
          "text": [
            "ingrese la base:3\n",
            "ingrese el exponente:3\n",
            "3 elevado a la 3 es 27\n"
          ]
        }
      ],
      "source": [
        "def potencia(a: int, b: int):\n",
        "  if b == 0: #este es el caso que hace que la funcion deje de ejecutarse\n",
        "    return 1\n",
        "  else:\n",
        "    return a * potencia(a, b-1) # antes de llegar al caso base al exponente se le resta una unidad\n",
        "\n",
        "if __name__=='__main__':\n",
        "  a = int(input('ingrese la base:'))\n",
        "  b = int(input('ingrese el exponente:'))\n",
        "  rta = potencia (a, b)\n",
        "  print(str(a) + ' elevado a la ' + str(b) + ' es ' + str(rta))\n"
      ]
    },
    {
      "cell_type": "markdown",
      "metadata": {
        "id": "oqlsCpgKUefB"
      },
      "source": [
        "# Tiempos de ejecucion"
      ]
    },
    {
      "cell_type": "code",
      "execution_count": 12,
      "metadata": {
        "colab": {
          "base_uri": "https://localhost:8080/"
        },
        "id": "FBhLuDSkUibp",
        "outputId": "0cd24b1a-87f9-442e-9357-9499a089dd6e"
      },
      "outputs": [
        {
          "name": "stdout",
          "output_type": "stream",
          "text": [
            "el tiempo de ejecucion es de 0.0\n",
            "La serie de Fibonacci hasta 32 es 3524578\n"
          ]
        }
      ],
      "source": [
        "import time\n",
        "def fibonacci_Iter(n : int )-> int:\n",
        "  start_time = time.time()\n",
        "  i : int = 1 # el indice incicia en 1\n",
        "  #Los dos primeros numeros de la secuencia de fibonacci\n",
        "  n1 : int = 0\n",
        "  n2 : int = 1\n",
        "  while(i <= n):\n",
        "    sumaFibo = n1 + n2 # se suma la secuencia de numeros anteriores\n",
        "    n1 = n2\n",
        "    n2 = sumaFibo\n",
        "    i += 1\n",
        "  end_time = time.time()\n",
        "  print(f'el tiempo de ejecucion es de {end_time-start_time}')\n",
        "  return sumaFibo\n",
        "\n",
        "\n",
        "\n",
        "if __name__ == \"__main__\":\n",
        "  num = int(input(\"Ingrese numero: \"))\n",
        "  serieFibo = fibonacci_Iter(num)\n",
        "  print(\"La serie de Fibonacci hasta \" + str(num) + \" es \" + str(serieFibo))\n",
        "\n",
        "\n",
        "\n",
        "\n"
      ]
    },
    {
      "cell_type": "code",
      "execution_count": 11,
      "metadata": {
        "colab": {
          "base_uri": "https://localhost:8080/",
          "height": 373
        },
        "id": "bjbAgy0OV_-g",
        "outputId": "97c510b3-d737-4bda-ea34-9cbe895411b8"
      },
      "outputs": [
        {
          "name": "stdout",
          "output_type": "stream",
          "text": [
            "el tiempo de ejecucion es de 1.0625696182250977\n",
            "La serie de Fibonacci hasta 32 es 3524578\n",
            "3524577\n"
          ]
        }
      ],
      "source": [
        "import time\n",
        "calls = 0\n",
        "def fibonacci_recursivo(n : int )-> int:\n",
        "\n",
        "  global calls\n",
        "  if n < 2:\n",
        "    return 1\n",
        "  else:\n",
        "    calls += 1\n",
        "    return fibonacci_recursivo(n-1)+fibonacci_recursivo(n-2)\n",
        "\n",
        "\n",
        "\n",
        "if __name__ == \"__main__\":\n",
        "  num = int(input(\"Ingrese numero: \"))\n",
        "  start_time = time.time()\n",
        "  serieFibo = fibonacci_recursivo(num)\n",
        "  end_time = time.time()\n",
        "  print(f'el tiempo de ejecucion es de {end_time-start_time}')\n",
        "  print(\"La serie de Fibonacci hasta \" + str(num) + \" es \" + str(serieFibo))\n",
        "  print(calls)"
      ]
    },
    {
      "cell_type": "markdown",
      "metadata": {},
      "source": [
        "## A partir del numero 30 la diferenciase vuelve significativa, con ua diferencia de aproximadamente 1 segundo"
      ]
    },
    {
      "cell_type": "markdown",
      "metadata": {},
      "source": []
    }
  ],
  "metadata": {
    "colab": {
      "provenance": []
    },
    "kernelspec": {
      "display_name": "Python 3",
      "name": "python3"
    },
    "language_info": {
      "codemirror_mode": {
        "name": "ipython",
        "version": 3
      },
      "file_extension": ".py",
      "mimetype": "text/x-python",
      "name": "python",
      "nbconvert_exporter": "python",
      "pygments_lexer": "ipython3",
      "version": "3.10.11"
    }
  },
  "nbformat": 4,
  "nbformat_minor": 0
}
